{
  "cells": [
    {
      "cell_type": "markdown",
      "metadata": {
        "id": "zw5ButypVydc"
      },
      "source": [
        "# Whisper による文字起こし\n",
        "\n",
        "## 📖 使い方\n",
        "\n",
        "1. \"セットアップ\" を実行する (30 秒ほどかかります)\n",
        "2. 左のサイドバーの「フォルダアイコン」を開く\n",
        "3. 音声ファイルを `input` フォルダにアップロードする <br>\n",
        "   - フォルダアイコンに `input` や `output` が見当たらない場合、更新ボタンを押してみてください <br>\n",
        "   - 間違えて親フォルダ (`..` のフォルダ) に移動してしまった場合、`content` フォルダを探して戻ってください\n",
        "4. \"文字起こし\" を実行する\n",
        "5. \"結果を zip でダウンロード\" を実行する\n"
      ]
    },
    {
      "cell_type": "code",
      "execution_count": null,
      "metadata": {
        "cellView": "form",
        "id": "XWIl4Ys54Ce6"
      },
      "outputs": [],
      "source": [
        "# @title セットアップ\n",
        "\n",
        "import os\n",
        "\n",
        "# ディレクトリ作成\n",
        "input_dir = \"input\"\n",
        "output_dir = \"output\"\n",
        "\n",
        "exist_input_dir = os.path.exists(input_dir)\n",
        "exist_output_dir = os.path.exists(output_dir)\n",
        "\n",
        "if not exist_input_dir:\n",
        "  os.mkdir(input_dir)\n",
        "if not exist_output_dir:\n",
        "  os.mkdir(output_dir)\n",
        "\n",
        "# パッケージのインストール\n",
        "%pip install git+https://github.com/openai/whisper.git > /dev/null"
      ]
    },
    {
      "cell_type": "code",
      "execution_count": null,
      "metadata": {
        "cellView": "form",
        "id": "scAiM8ug_s1M"
      },
      "outputs": [],
      "source": [
        "# @title 文字起こし\n",
        "\n",
        "import whisper\n",
        "import csv\n",
        "\n",
        "language = \"ja\"\n",
        "model = whisper.load_model(\"large\")\n",
        "\n",
        "def write_transcription_to_csv(result, original_fname, output_dir):\n",
        "  fname_wo_ext = fname.split(\".\")[0]\n",
        "  with open(f\"{output_dir}/{fname_wo_ext}.csv\", \"w\") as f:\n",
        "    fieldnames = [\"start\", \"end\", \"text\"] # list(result[\"segments\"][0])\n",
        "    writer = csv.DictWriter(f, fieldnames=fieldnames, extrasaction='ignore')\n",
        "    writer.writeheader()\n",
        "    for segment in result[\"segments\"]:\n",
        "      writer.writerow(segment)\n",
        "\n",
        "for fname in os.listdir(input_dir):\n",
        "  result = model.transcribe(f\"{input_dir}/{fname}\", language=language)\n",
        "  write_transcription_to_csv(result, fname, output_dir)"
      ]
    },
    {
      "cell_type": "code",
      "execution_count": null,
      "metadata": {
        "cellView": "form",
        "id": "fKEdUXyRrDIE"
      },
      "outputs": [],
      "source": [
        "#@title 結果を zip でダウンロード\n",
        "\n",
        "import subprocess\n",
        "\n",
        "from google.colab import files\n",
        "\n",
        "zip_fname = \"transcription_results.zip\"\n",
        "\n",
        "subprocess.run(f\"zip -r {zip_fname} {output_dir}\", shell=True)\n",
        "files.download(zip_fname)"
      ]
    }
  ],
  "metadata": {
    "accelerator": "GPU",
    "colab": {
      "provenance": []
    },
    "kernelspec": {
      "display_name": "Python 3",
      "name": "python3"
    },
    "language_info": {
      "name": "python"
    }
  },
  "nbformat": 4,
  "nbformat_minor": 0
}
